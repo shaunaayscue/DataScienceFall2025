{
 "cells": [
  {
   "cell_type": "markdown",
   "id": "7cd94ad1-5681-4267-928c-0134aa7939b7",
   "metadata": {},
   "source": [
    "## Python Function for Factorial"
   ]
  },
  {
   "cell_type": "code",
   "execution_count": 4,
   "id": "9017a25c-d687-44ee-9b43-84edd53deec9",
   "metadata": {},
   "outputs": [],
   "source": [
    "def factorial(n):\n",
    "    if n == 0:\n",
    "        return 1\n",
    "    else:\n",
    "        return n * factorial(n-1)"
   ]
  },
  {
   "cell_type": "code",
   "execution_count": 7,
   "id": "89c6c5e0-8b48-489c-8d12-f2989684e7ab",
   "metadata": {},
   "outputs": [
    {
     "data": {
      "text/plain": [
       "120"
      ]
     },
     "execution_count": 7,
     "metadata": {},
     "output_type": "execute_result"
    }
   ],
   "source": [
    "factorial(5)"
   ]
  },
  {
   "cell_type": "markdown",
   "id": "0647604b-1bec-4fd9-a66c-1ba8005a2c84",
   "metadata": {},
   "source": [
    "* The function uses a if statement and when n = 0 it returns 1, else it uses recursion to multiply n with the factorial(n-1)."
   ]
  },
  {
   "cell_type": "code",
   "execution_count": null,
   "id": "ce32cc89-51b3-462c-8bcd-eeb8712fdce1",
   "metadata": {},
   "outputs": [],
   "source": []
  }
 ],
 "metadata": {
  "kernelspec": {
   "display_name": "Python 3 (ipykernel)",
   "language": "python",
   "name": "python3"
  },
  "language_info": {
   "codemirror_mode": {
    "name": "ipython",
    "version": 3
   },
   "file_extension": ".py",
   "mimetype": "text/x-python",
   "name": "python",
   "nbconvert_exporter": "python",
   "pygments_lexer": "ipython3",
   "version": "3.13.5"
  }
 },
 "nbformat": 4,
 "nbformat_minor": 5
}
