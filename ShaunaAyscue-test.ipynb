{
 "cells": [
  {
   "cell_type": "code",
   "execution_count": 1,
   "id": "71708b09-6ba8-4e00-9065-3f65b613a7da",
   "metadata": {},
   "outputs": [
    {
     "name": "stdout",
     "output_type": "stream",
     "text": [
      "hello, world\n"
     ]
    }
   ],
   "source": [
    "print(\"hello, world\")"
   ]
  },
  {
   "cell_type": "code",
   "execution_count": 2,
   "id": "8ec5dd43-4d04-415e-bc72-99debd5d45ab",
   "metadata": {},
   "outputs": [
    {
     "name": "stdout",
     "output_type": "stream",
     "text": [
      "Hello, my name is Shauna Ayscue\n"
     ]
    }
   ],
   "source": [
    "print(\"Hello, my name is Shauna Ayscue\")"
   ]
  },
  {
   "cell_type": "markdown",
   "id": "ede5ea34-eeb3-43b6-890d-eb0b2b1429b1",
   "metadata": {},
   "source": [
    "# Let's do some math."
   ]
  },
  {
   "cell_type": "markdown",
   "id": "3d9d14de-6116-42ca-b87a-915c33e4cfa5",
   "metadata": {},
   "source": [
    "- plus"
   ]
  },
  {
   "cell_type": "code",
   "execution_count": 4,
   "id": "7bb4b897-0ff4-42bf-93ec-38a5950a8cf3",
   "metadata": {},
   "outputs": [
    {
     "name": "stdout",
     "output_type": "stream",
     "text": [
      "2+3 =  5\n"
     ]
    }
   ],
   "source": [
    "print(\"2+3 = \", 2+3)"
   ]
  },
  {
   "cell_type": "markdown",
   "id": "c0b3b3b0-8721-4500-9acf-8a0b9ea71083",
   "metadata": {},
   "source": [
    "- multiplication"
   ]
  },
  {
   "cell_type": "code",
   "execution_count": 5,
   "id": "33f3ccb9-f4b1-4d7b-823f-81e3be59230a",
   "metadata": {},
   "outputs": [
    {
     "name": "stdout",
     "output_type": "stream",
     "text": [
      "10*5 =  50\n"
     ]
    }
   ],
   "source": [
    "print(\"10*5 = \", 10*5)"
   ]
  },
  {
   "cell_type": "markdown",
   "id": "e1f90aa4-a93d-4dd3-a96c-215b7cdc3168",
   "metadata": {},
   "source": [
    "# ASCII ART"
   ]
  },
  {
   "cell_type": "code",
   "execution_count": 7,
   "id": "2e030689-bcc1-46f0-b64a-8e6549cfc99e",
   "metadata": {},
   "outputs": [
    {
     "name": "stdout",
     "output_type": "stream",
     "text": [
      "  *  \n",
      " ***  \n",
      "******  \n"
     ]
    }
   ],
   "source": [
    "print(\"  *  \")\n",
    "print(\" ***  \")\n",
    "print(\"******  \")"
   ]
  },
  {
   "cell_type": "markdown",
   "id": "54bb063f-cfb8-4257-be8a-885199bb3cf5",
   "metadata": {},
   "source": [
    "# Tell me something about you"
   ]
  },
  {
   "cell_type": "code",
   "execution_count": 8,
   "id": "487b55de-73b9-4123-9865-61162aa96fee",
   "metadata": {},
   "outputs": [
    {
     "name": "stdout",
     "output_type": "stream",
     "text": [
      "My favorite color is purple\n",
      "My favorite food is pizza\n"
     ]
    }
   ],
   "source": [
    "print(\"My favorite color is purple\")\n",
    "print(\"My favorite food is pizza\")"
   ]
  },
  {
   "cell_type": "markdown",
   "id": "f3bfb8d2-f4ef-40b2-9efa-127fe5d0337e",
   "metadata": {},
   "source": [
    "# Working with libraries"
   ]
  },
  {
   "cell_type": "code",
   "execution_count": 10,
   "id": "89e448ec-4114-40f9-bb4c-c9fa3033b2fb",
   "metadata": {},
   "outputs": [
    {
     "name": "stdout",
     "output_type": "stream",
     "text": [
      "Current time is  2025-08-21 13:10:19.750713\n"
     ]
    }
   ],
   "source": [
    "import datetime\n",
    "print(\"Current time is \", datetime.datetime.now())"
   ]
  },
  {
   "cell_type": "markdown",
   "id": "f40d20bc-97b7-474e-a40c-0ae77e160d31",
   "metadata": {},
   "source": [
    "# Some Challenges\n",
    "- Can you print the multiplication table for 5 (1 up to 10)\n"
   ]
  },
  {
   "cell_type": "code",
   "execution_count": 12,
   "id": "214300ba-6fc9-4c89-9438-9d0a174c6416",
   "metadata": {},
   "outputs": [
    {
     "name": "stdout",
     "output_type": "stream",
     "text": [
      "5 *  1 = 5\n",
      "5 *  2 = 10\n",
      "5 *  3 = 15\n",
      "5 *  4 = 20\n",
      "5 *  5 = 25\n",
      "5 *  6 = 30\n",
      "5 *  7 = 35\n",
      "5 *  8 = 40\n",
      "5 *  9 = 45\n",
      "5 *  10 = 50\n"
     ]
    }
   ],
   "source": [
    "for i in range(1,11):\n",
    "    print(\"5 * \", i, \"=\", 5*i)"
   ]
  },
  {
   "cell_type": "markdown",
   "id": "65e1f4d0-8efa-4b48-97c2-f93d5bf80666",
   "metadata": {},
   "source": [
    "# Let's do some plotting"
   ]
  },
  {
   "cell_type": "code",
   "execution_count": null,
   "id": "51e1ee8c-b41b-4714-99e2-51441cd17023",
   "metadata": {},
   "outputs": [],
   "source": [
    "import matplotlib.pyplot as plt\n",
    "\n",
    "x = list(range (0,11))\n",
    "y =  [i**2 for i in x]\n",
    "\n",
    "plt.plot(x,y)\n",
    "plt.title((\"y = x^2\"))\n",
    "plt.xlabel(\"x\")\n",
    "plt.ylabel(\"y\")\n",
    "plt.show()\n",
    "          "
   ]
  },
  {
   "cell_type": "code",
   "execution_count": null,
   "id": "c4ff2a52-2cfa-4fcd-83db-739b04b3a761",
   "metadata": {},
   "outputs": [],
   "source": []
  }
 ],
 "metadata": {
  "kernelspec": {
   "display_name": "Python [conda env:base] *",
   "language": "python",
   "name": "conda-base-py"
  },
  "language_info": {
   "codemirror_mode": {
    "name": "ipython",
    "version": 3
   },
   "file_extension": ".py",
   "mimetype": "text/x-python",
   "name": "python",
   "nbconvert_exporter": "python",
   "pygments_lexer": "ipython3",
   "version": "3.13.5"
  }
 },
 "nbformat": 4,
 "nbformat_minor": 5
}
